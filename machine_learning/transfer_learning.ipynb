{
 "cells": [
  {
   "cell_type": "markdown",
   "metadata": {},
   "source": [
    "## Transfer Learning\n",
    "\n",
    "Abordagem na área de aprendizado de máquina onde um modelo pré-treinado em uma tarefa específica é reutilizado como ponto de partida para treinar um modelo em uma tarefa diferente, geralmente relacionada. Em vez de começar o treinamento de um modelo do zero, o conhecimento adquirido pelo modelo pré-treinado é transferido e ajustado para se adaptar à nova tarefa, resultando em um treinamento mais eficiente e, muitas vezes, em melhores resultados, especialmente quando há disponibilidade limitada de dados para a nova tarefa. Isso é comumente usado em visão computacional, processamento de linguagem natural e outras áreas de aprendizado de máquina."
   ]
  },
  {
   "cell_type": "markdown",
   "metadata": {},
   "source": [
    "### Popular models\n",
    "\n",
    "- BERT (Bidirectional Encoder Representations from Transformers)\n",
    "- GPT (Generative Pre-trained Transformer)\n",
    "- ELMo (Embeddings from Language Models)"
   ]
  }
 ],
 "metadata": {
  "language_info": {
   "name": "python"
  }
 },
 "nbformat": 4,
 "nbformat_minor": 2
}
