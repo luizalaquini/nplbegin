{
 "cells": [
  {
   "cell_type": "markdown",
   "metadata": {},
   "source": [
    "## Zero-shot, One-shot, Few-shot and Many-shot learning\n",
    "\n",
    "Zero-shot learning é uma abordagem em aprendizado de máquina onde um modelo é capaz de realizar uma tarefa sem ter sido explicitamente treinado nela, geralmente através de transferência de conhecimento de tarefas relacionadas.\n",
    "\n",
    "One-shot learning é uma técnica onde um modelo é treinado com apenas um exemplo de cada classe, permitindo que ele generalize para novas classes com base em uma única amostra de cada.\n",
    "\n",
    "Few-shot learning é uma variante do aprendizado supervisionado onde o modelo é treinado com um número muito pequeno de exemplos de cada classe, permitindo que generalize para novas classes com um número limitado de exemplos.\n",
    "\n",
    "Many-shot learning é uma abordagem em aprendizado de máquina onde um modelo é treinado com um grande número de exemplos de cada classe. Ao contrário do few-shot learning, que envolve um número limitado de exemplos por classe, o many-shot learning visa aprender com uma quantidade significativa de dados para cada classe, geralmente visando melhorar o desempenho do modelo em tarefas de classificação ou predição."
   ]
  }
 ],
 "metadata": {
  "language_info": {
   "name": "python"
  }
 },
 "nbformat": 4,
 "nbformat_minor": 2
}
