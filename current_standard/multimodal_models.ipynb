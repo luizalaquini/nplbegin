{
 "cells": [
  {
   "cell_type": "markdown",
   "metadata": {},
   "source": [
    "## Multimodal Models\n",
    "\n",
    "Modelos multimodais são sistemas de aprendizado de máquina projetados para processar e relacionar informações de diferentes tipos de dados, como texto, imagens, áudio e outros, em conjunto. Eles capturam a rica informação disponível na interação complexa de diferentes tipos de dados, permitindo uma compreensão mais completa e profunda do conteúdo e facilitando a execução de uma variedade de tarefas complexas que envolvem múltiplos modos de entrada."
   ]
  },
  {
   "cell_type": "markdown",
   "metadata": {},
   "source": [
    "### CLIP\n",
    "\n",
    "O CLIP, desenvolvido pela OpenAI, é um modelo multimodal que une dados visuais e linguísticos. Ele aprende a relação entre imagens e textos, permitindo realizar uma variedade de tarefas com um único modelo. Sua arquitetura inclui um codificador de imagem e um codificador de texto, treinados para produzir embeddings compartilhados. Usando um objetivo de aprendizado contrastivo e um grande conjunto de dados, o CLIP pode classificar imagens em categorias não vistas durante o treinamento e realizar outras tarefas multimodais complexas. Sua capacidade de generalização a partir de descrições em linguagem natural o torna útil em várias aplicações, desde melhorar mecanismos de busca até sistemas de interação humano-computador mais intuitivos."
   ]
  },
  {
   "cell_type": "code",
   "execution_count": 1,
   "metadata": {},
   "outputs": [
    {
     "data": {
      "application/vnd.jupyter.widget-view+json": {
       "model_id": "bd1253cbb42c4b2e97287c26151a4e4d",
       "version_major": 2,
       "version_minor": 0
      },
      "text/plain": [
       "config.json:   0%|          | 0.00/4.19k [00:00<?, ?B/s]"
      ]
     },
     "metadata": {},
     "output_type": "display_data"
    },
    {
     "name": "stderr",
     "output_type": "stream",
     "text": [
      "c:\\Users\\luiza\\AppData\\Local\\Programs\\Python\\Python310\\lib\\site-packages\\huggingface_hub\\file_download.py:148: UserWarning: `huggingface_hub` cache-system uses symlinks by default to efficiently store duplicated files but your machine does not support them in C:\\Users\\luiza\\.cache\\huggingface\\hub\\models--openai--clip-vit-base-patch32. Caching files will still work but in a degraded version that might require more space on your disk. This warning can be disabled by setting the `HF_HUB_DISABLE_SYMLINKS_WARNING` environment variable. For more details, see https://huggingface.co/docs/huggingface_hub/how-to-cache#limitations.\n",
      "To support symlinks on Windows, you either need to activate Developer Mode or to run Python as an administrator. In order to see activate developer mode, see this article: https://docs.microsoft.com/en-us/windows/apps/get-started/enable-your-device-for-development\n",
      "  warnings.warn(message)\n"
     ]
    },
    {
     "data": {
      "application/vnd.jupyter.widget-view+json": {
       "model_id": "beb749fc14844a8ea700a6a90492c2fb",
       "version_major": 2,
       "version_minor": 0
      },
      "text/plain": [
       "pytorch_model.bin:   0%|          | 0.00/605M [00:00<?, ?B/s]"
      ]
     },
     "metadata": {},
     "output_type": "display_data"
    },
    {
     "data": {
      "application/vnd.jupyter.widget-view+json": {
       "model_id": "ab769feba78845bea3db177a4fb325e5",
       "version_major": 2,
       "version_minor": 0
      },
      "text/plain": [
       "preprocessor_config.json:   0%|          | 0.00/316 [00:00<?, ?B/s]"
      ]
     },
     "metadata": {},
     "output_type": "display_data"
    },
    {
     "data": {
      "application/vnd.jupyter.widget-view+json": {
       "model_id": "1299154326f7495ba2302aadbe8e594e",
       "version_major": 2,
       "version_minor": 0
      },
      "text/plain": [
       "tokenizer_config.json:   0%|          | 0.00/592 [00:00<?, ?B/s]"
      ]
     },
     "metadata": {},
     "output_type": "display_data"
    },
    {
     "data": {
      "application/vnd.jupyter.widget-view+json": {
       "model_id": "aef2e705f66147e6b4e532b623f030a9",
       "version_major": 2,
       "version_minor": 0
      },
      "text/plain": [
       "vocab.json:   0%|          | 0.00/862k [00:00<?, ?B/s]"
      ]
     },
     "metadata": {},
     "output_type": "display_data"
    },
    {
     "data": {
      "application/vnd.jupyter.widget-view+json": {
       "model_id": "7e17a21ac4e144acaadc497ffaf0d8a6",
       "version_major": 2,
       "version_minor": 0
      },
      "text/plain": [
       "merges.txt:   0%|          | 0.00/525k [00:00<?, ?B/s]"
      ]
     },
     "metadata": {},
     "output_type": "display_data"
    },
    {
     "data": {
      "application/vnd.jupyter.widget-view+json": {
       "model_id": "ed0c60fe81024a5e9a9bed4138e84c06",
       "version_major": 2,
       "version_minor": 0
      },
      "text/plain": [
       "tokenizer.json:   0%|          | 0.00/2.22M [00:00<?, ?B/s]"
      ]
     },
     "metadata": {},
     "output_type": "display_data"
    },
    {
     "data": {
      "application/vnd.jupyter.widget-view+json": {
       "model_id": "2616f77c827447d9bbbfc44a150de357",
       "version_major": 2,
       "version_minor": 0
      },
      "text/plain": [
       "special_tokens_map.json:   0%|          | 0.00/389 [00:00<?, ?B/s]"
      ]
     },
     "metadata": {},
     "output_type": "display_data"
    },
    {
     "name": "stderr",
     "output_type": "stream",
     "text": [
      "Unused or unrecognized kwargs: padding.\n"
     ]
    },
    {
     "name": "stdout",
     "output_type": "stream",
     "text": [
      "Label: a cat, Probability: 0.0030\n",
      "Label: a dog, Probability: 0.9822\n",
      "Label: a horse, Probability: 0.0148\n"
     ]
    }
   ],
   "source": [
    "from PIL import Image\n",
    "import requests\n",
    "from transformers import CLIPProcessor, CLIPModel\n",
    "\n",
    "# Load the pre-trained CLIP model and processor\n",
    "model = CLIPModel.from_pretrained(\"openai/clip-vit-base-patch32\")\n",
    "processor = CLIPProcessor.from_pretrained(\"openai/clip-vit-base-patch32\")\n",
    "\n",
    "# Define the image and candidate class labels\n",
    "image_url = \"https://images.pexels.com/photos/1108099/pexels-photo-1108099.jpeg\"\n",
    "image = Image.open(requests.get(image_url, stream=True).raw)\n",
    "candidate_labels = [\"a cat\", \"a dog\", \"a horse\"]\n",
    "\n",
    "# Preprocess the image and text\n",
    "inputs = processor(text=candidate_labels, images=image, return_tensors=\"pt\", padding=True)\n",
    "\n",
    "# Forward pass, get logits and softmax scores\n",
    "outputs = model(**inputs)\n",
    "logits_per_image = outputs.logits_per_image  # image logits are sized [batch_size, num_candidate_labels]\n",
    "probs = logits_per_image.softmax(dim=1)\n",
    "\n",
    "# Print the classification probabilities\n",
    "for label, prob in zip(candidate_labels, probs[0]):\n",
    "    print(f\"Label: {label}, Probability: {prob:.4f}\")"
   ]
  }
 ],
 "metadata": {
  "kernelspec": {
   "display_name": "Python 3",
   "language": "python",
   "name": "python3"
  },
  "language_info": {
   "codemirror_mode": {
    "name": "ipython",
    "version": 3
   },
   "file_extension": ".py",
   "mimetype": "text/x-python",
   "name": "python",
   "nbconvert_exporter": "python",
   "pygments_lexer": "ipython3",
   "version": "3.10.2"
  }
 },
 "nbformat": 4,
 "nbformat_minor": 2
}
