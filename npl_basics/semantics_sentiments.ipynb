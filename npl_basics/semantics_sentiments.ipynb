{
 "cells": [
  {
   "cell_type": "markdown",
   "metadata": {},
   "source": [
    "## Semantic Analysis\n",
    "\n",
    "Lida com ambiguidades, similaridades, etc..."
   ]
  },
  {
   "cell_type": "code",
   "execution_count": 2,
   "metadata": {},
   "outputs": [
    {
     "name": "stderr",
     "output_type": "stream",
     "text": [
      "No model was supplied, defaulted to google-t5/t5-small and revision d769bba (https://huggingface.co/google-t5/t5-small).\n",
      "Using a pipeline without specifying a model name and revision in production is not recommended.\n"
     ]
    },
    {
     "name": "stdout",
     "output_type": "stream",
     "text": [
      "WARNING:tensorflow:From c:\\Users\\luiza\\AppData\\Local\\Programs\\Python\\Python310\\lib\\site-packages\\tf_keras\\src\\losses.py:2976: The name tf.losses.sparse_softmax_cross_entropy is deprecated. Please use tf.compat.v1.losses.sparse_softmax_cross_entropy instead.\n",
      "\n"
     ]
    },
    {
     "data": {
      "application/vnd.jupyter.widget-view+json": {
       "model_id": "91403560ae774f36b32a6b5e57256a79",
       "version_major": 2,
       "version_minor": 0
      },
      "text/plain": [
       "model.safetensors:   0%|          | 0.00/242M [00:00<?, ?B/s]"
      ]
     },
     "metadata": {},
     "output_type": "display_data"
    },
    {
     "name": "stdout",
     "output_type": "stream",
     "text": [
      "WARNING:tensorflow:From c:\\Users\\luiza\\AppData\\Local\\Programs\\Python\\Python310\\lib\\site-packages\\tf_keras\\src\\backend.py:873: The name tf.get_default_graph is deprecated. Please use tf.compat.v1.get_default_graph instead.\n",
      "\n"
     ]
    },
    {
     "name": "stderr",
     "output_type": "stream",
     "text": [
      "All PyTorch model weights were used when initializing TFT5ForConditionalGeneration.\n",
      "\n",
      "All the weights of TFT5ForConditionalGeneration were initialized from the PyTorch model.\n",
      "If your task is similar to the task the model of the checkpoint was trained on, you can already use TFT5ForConditionalGeneration for predictions without further training.\n"
     ]
    },
    {
     "data": {
      "application/vnd.jupyter.widget-view+json": {
       "model_id": "3e9710a12c9341fea4bd91437a77f1d4",
       "version_major": 2,
       "version_minor": 0
      },
      "text/plain": [
       "tokenizer_config.json:   0%|          | 0.00/2.32k [00:00<?, ?B/s]"
      ]
     },
     "metadata": {},
     "output_type": "display_data"
    },
    {
     "data": {
      "application/vnd.jupyter.widget-view+json": {
       "model_id": "a199454328c945f98ad05e95c34d2ab2",
       "version_major": 2,
       "version_minor": 0
      },
      "text/plain": [
       "spiece.model:   0%|          | 0.00/792k [00:00<?, ?B/s]"
      ]
     },
     "metadata": {},
     "output_type": "display_data"
    },
    {
     "data": {
      "application/vnd.jupyter.widget-view+json": {
       "model_id": "7d974b002e6a4bceac1faa039f34564c",
       "version_major": 2,
       "version_minor": 0
      },
      "text/plain": [
       "tokenizer.json:   0%|          | 0.00/1.39M [00:00<?, ?B/s]"
      ]
     },
     "metadata": {},
     "output_type": "display_data"
    },
    {
     "name": "stdout",
     "output_type": "stream",
     "text": [
      "natural language processing (NLP) is a field of computer science, artificial intelligence, and linguistics . many challenges in NLP involve natural language understanding .\n"
     ]
    }
   ],
   "source": [
    "from transformers import pipeline\n",
    "\n",
    "# Initialize a summarization pipeline\n",
    "summarizer = pipeline(\"summarization\")\n",
    "\n",
    "# Example text\n",
    "text = \"Natural Language Processing (NLP) is a field of computer science, artificial intelligence, and linguistics concerned with the interactions between computers and human (natural) languages. As such, NLP is related to the area of human-computer interaction. Many challenges in NLP involve natural language understanding.\"\n",
    "\n",
    "# Generating summary\n",
    "summary = summarizer(text, max_length=50, min_length=25, do_sample=False)\n",
    "\n",
    "# Output the summary\n",
    "print(summary[0]['summary_text'])"
   ]
  },
  {
   "cell_type": "markdown",
   "metadata": {},
   "source": [
    "## Sentiment Analysis\n",
    "\n",
    "Análise de sentimento. Possui diferentes técnicas para isso:"
   ]
  },
  {
   "cell_type": "markdown",
   "metadata": {},
   "source": [
    "**Lexicon-Based Approaches:** Utiliza uma lista pré-compilada de palavras com pontuações de sentimento atribuídas.\n",
    "\n",
    "**Machine Learning Approaches:**  usa algoritmos (Naive-Bayes, SVM, NN, etc) para aprender com um conjunto de dados rotulado e prever o sentimento.\n",
    "\n",
    "**Aspect-based sentiment analysis (ABSA):** é uma abordagem mais granular que vai além da análise geral do sentimento para determinar o sentimento em relação a aspectos específicos de um produto ou serviço."
   ]
  },
  {
   "cell_type": "code",
   "execution_count": 7,
   "metadata": {},
   "outputs": [
    {
     "name": "stdout",
     "output_type": "stream",
     "text": [
      "Sentiment Polarity: 0.1840909090909091\n"
     ]
    }
   ],
   "source": [
    "from textblob import TextBlob\n",
    "\n",
    "# Sample text\n",
    "text = \"I recently bought a new phone. Its camera is amazing but the battery life is too short.\"\n",
    "\n",
    "# Create a TextBlob object\n",
    "blob = TextBlob(text)\n",
    "\n",
    "# Output sentiment polarity\n",
    "print(\"Sentiment Polarity:\", blob.sentiment.polarity)\n",
    "\n",
    "# Output:\n",
    "# Sentiment Polarity: 0.39166666666666666\n"
   ]
  },
  {
   "cell_type": "markdown",
   "metadata": {},
   "source": [
    "\"The sentiment polarity is a float within the range [-1.0, 1.0], where -1.0 signifies negative sentiment and 1.0 signifies positive sentiment. The TextBlob library internally uses pattern analyzer for English text but can be configured with other machine learning models for more advanced analysis.\""
   ]
  },
  {
   "cell_type": "markdown",
   "metadata": {},
   "source": [
    "## Pragmatics\n",
    "\n",
    "Trata dos aspectos do significado que derivam das intenções dos falantes e das interpretações dos ouvintes. Em outras palavras, é a intenção que uma pessoa fala ou entende. Isto inclui compreender a linguagem além do seu significado literal, considerando fatores como a intenção do falante, normas sociais e contexto cultural."
   ]
  },
  {
   "cell_type": "markdown",
   "metadata": {},
   "source": [
    "O exemplo a seguir mostra as limitações das ferramentas básicas de análise de sentimento na compreensão da pragmática, pois podem perder o sarcasmo implícito no contexto:"
   ]
  },
  {
   "cell_type": "code",
   "execution_count": 8,
   "metadata": {},
   "outputs": [
    {
     "name": "stdout",
     "output_type": "stream",
     "text": [
      "Sentiment Polarity: 1.0\n"
     ]
    }
   ],
   "source": [
    "from textblob import TextBlob\n",
    "\n",
    "# Example text with sarcasm\n",
    "text = \"Oh great! Another rainy day.\"\n",
    "\n",
    "# Create a TextBlob object\n",
    "blob = TextBlob(text)\n",
    "\n",
    "# Output sentiment polarity\n",
    "print(\"Sentiment Polarity:\", blob.sentiment.polarity)\n",
    "\n",
    "# Contextual understanding is required to interpret this correctly"
   ]
  }
 ],
 "metadata": {
  "kernelspec": {
   "display_name": "Python 3",
   "language": "python",
   "name": "python3"
  },
  "language_info": {
   "codemirror_mode": {
    "name": "ipython",
    "version": 3
   },
   "file_extension": ".py",
   "mimetype": "text/x-python",
   "name": "python",
   "nbconvert_exporter": "python",
   "pygments_lexer": "ipython3",
   "version": "3.10.2"
  }
 },
 "nbformat": 4,
 "nbformat_minor": 2
}
