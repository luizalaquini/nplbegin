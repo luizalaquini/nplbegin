{
 "cells": [
  {
   "cell_type": "markdown",
   "metadata": {},
   "source": [
    "## Types"
   ]
  },
  {
   "cell_type": "markdown",
   "metadata": {},
   "source": [
    "### Intrinsic v. Extrinsic Evaluation"
   ]
  },
  {
   "cell_type": "markdown",
   "metadata": {},
   "source": [
    "\n",
    "**Intrínseca:** Trata mais da profundidade da análise (quão bem o sistema executa uma tarefa específica da PNL).\n",
    "\n",
    "**Extrínseca:** Trata da amplitude do impacto (como o sistema contribui para objetivos mais amplos).\n",
    "\n",
    "Um exemplo de avaliação intrínseca seria avaliar um modelo de análise de sentimento com base na sua precisão na classificação correta do sentimento. E um exemplo de avaliação extrínseca seria o impacto de um chatbot na satisfação do cliente em uma aplicação de atendimento ao cliente. Por meio desses exemplos, você pode observar que os métodos intrínsecos são frequentemente usados ​​durante a fase de desenvolvimento de sistemas de PNL para ajustá-los e otimizá-los, enquanto os métodos extrínsecos são usados ​​após a implantação para avaliar sua eficácia no mundo real.\n"
   ]
  },
  {
   "cell_type": "markdown",
   "metadata": {},
   "source": [
    "### Qualitative v. Quantitative Evaluation"
   ]
  },
  {
   "cell_type": "markdown",
   "metadata": {},
   "source": [
    "**Qualitativa:** Se concentra nos aspectos do desempenho do sistema que não são facilmente quantificáveis. Alguns exemplos: Avaliar a legibilidade e a fluência do texto gerado por um sistema de tradução automática; Avaliar quão bem um chatbot entende e responde a diferentes tipos de consultas do usuário em conversas naturais.\n",
    "\n",
    "**Quantitativa:** Mede o desempenho usando métricas numéricas (métodos estatísticos e matemáticos). Essas abordagens utilizam critérios objetivos e mensuráveis, como exatidão, precisão, recall, pontuação F1, etc."
   ]
  },
  {
   "cell_type": "markdown",
   "metadata": {},
   "source": [
    "## Evaluation Metrics"
   ]
  },
  {
   "cell_type": "markdown",
   "metadata": {},
   "source": [
    "### Classification\n"
   ]
  },
  {
   "cell_type": "markdown",
   "metadata": {},
   "source": [
    "- Acurácia\n",
    "- Precisão\n",
    "- Recall\n",
    "- F1-score"
   ]
  },
  {
   "cell_type": "markdown",
   "metadata": {},
   "source": [
    "### Regression"
   ]
  },
  {
   "cell_type": "markdown",
   "metadata": {},
   "source": [
    "- Mean Squared Error (MSE) \n",
    "- Mean Absolute Error (MAE)"
   ]
  },
  {
   "cell_type": "markdown",
   "metadata": {},
   "source": [
    "### Information Retrieval"
   ]
  },
  {
   "cell_type": "markdown",
   "metadata": {},
   "source": [
    "- Precision@K\n",
    "- Recall@K\n",
    "- Mean Average Precision (MAP)"
   ]
  },
  {
   "cell_type": "markdown",
   "metadata": {},
   "source": [
    "### Machine Translation"
   ]
  },
  {
   "cell_type": "markdown",
   "metadata": {},
   "source": [
    "- BLEU (Bilingual Evaluation Understudy)"
   ]
  },
  {
   "cell_type": "markdown",
   "metadata": {},
   "source": [
    "### Text Generation"
   ]
  },
  {
   "cell_type": "markdown",
   "metadata": {},
   "source": [
    "- Perplexity "
   ]
  },
  {
   "cell_type": "markdown",
   "metadata": {},
   "source": [
    "### Semantic Tasks"
   ]
  },
  {
   "cell_type": "markdown",
   "metadata": {},
   "source": [
    "- Cosine similarity \n",
    "- Jaccard index"
   ]
  },
  {
   "cell_type": "markdown",
   "metadata": {},
   "source": [
    "### Conversational AI"
   ]
  },
  {
   "cell_type": "markdown",
   "metadata": {},
   "source": [
    "- Dialog Success Rate \n",
    "- User Satisfaction Score"
   ]
  },
  {
   "cell_type": "markdown",
   "metadata": {},
   "source": [
    "## Imbalanced Datasets"
   ]
  },
  {
   "cell_type": "markdown",
   "metadata": {},
   "source": [
    "### Cohen's Kappa\n",
    "\n",
    "Medida estatística usada para avaliar o desempenho de modelos de classificação em conjuntos de dados desequilibrados. Ele compara a precisão observada com a precisão que poderia ser esperada pelo acaso. (O quão bom é o desempenho considerando os desequilíbrios no conjunto de dados.)"
   ]
  },
  {
   "cell_type": "markdown",
   "metadata": {},
   "source": [
    "### Matthews Correlation Coefficient\n",
    "\n",
    "Métrica robusta usada para tarefas de classificação binária, eficaz mesmo com conjuntos de dados desequilibrados. "
   ]
  },
  {
   "cell_type": "markdown",
   "metadata": {},
   "source": [
    "## Significance Testing"
   ]
  },
  {
   "cell_type": "markdown",
   "metadata": {},
   "source": [
    "Método estatístico usado para determinar se os resultados de um experimento não são devidos ao acaso. Possui diferentes técnicas:\n",
    "\n",
    "- T-Tests\n",
    "- Chi-squared\n",
    "- Bootstrap Approaches"
   ]
  },
  {
   "cell_type": "markdown",
   "metadata": {},
   "source": [
    "## Human Evaluation"
   ]
  },
  {
   "cell_type": "markdown",
   "metadata": {},
   "source": [
    "Avaliação subjetiva da NLP por juízes humanos. Faz-se necessário, posteriormente, avaliar o grau de concordância entre os avaliadores. Para isso, temos as técnicas:\n",
    "\n",
    "- Fleiss’ Kappa\n",
    "- Krippendorff's Alpha"
   ]
  }
 ],
 "metadata": {
  "language_info": {
   "name": "python"
  }
 },
 "nbformat": 4,
 "nbformat_minor": 2
}
